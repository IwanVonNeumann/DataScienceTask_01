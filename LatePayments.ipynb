{
 "cells": [
  {
   "cell_type": "markdown",
   "metadata": {},
   "source": [
    "# Late payments"
   ]
  },
  {
   "cell_type": "code",
   "execution_count": 1,
   "metadata": {},
   "outputs": [],
   "source": [
    "import pandas as pd"
   ]
  },
  {
   "cell_type": "code",
   "execution_count": 2,
   "metadata": {},
   "outputs": [],
   "source": [
    "pd.set_option('display.width', 250)\n",
    "pd.set_option('display.max_colwidth', 120)"
   ]
  },
  {
   "cell_type": "markdown",
   "metadata": {},
   "source": [
    "### Reading CSV"
   ]
  },
  {
   "cell_type": "code",
   "execution_count": 3,
   "metadata": {},
   "outputs": [],
   "source": [
    "policy_df = pd.read_csv(\"PolicyData.csv\", encoding=\"ISO-8859-1\", sep=\";\", parse_dates=[\n",
    "    \"ClientBirthday\",\"PolicyIssueDate\", \"PolicyStartDate\", \"PolicyEndDate\", \"PolicyActualEndDate\"\n",
    "])\n",
    "\n",
    "invoice_df = pd.read_csv(\"InvoiceData.csv\", encoding=\"ISO-8859-1\", sep=\";\", parse_dates=[\"due_date\", \"paid_date\"])"
   ]
  },
  {
   "cell_type": "code",
   "execution_count": 4,
   "metadata": {},
   "outputs": [],
   "source": [
    "policy_df[\"Premium\"] = policy_df[\"Premium\"].str.replace(\",\", \".\").astype(float)\n",
    "\n",
    "invoice_df[\"amount_premium\"] = invoice_df[\"amount_premium\"].str.replace(\",\", \".\").astype(float)"
   ]
  },
  {
   "cell_type": "markdown",
   "metadata": {},
   "source": [
    "### Dataset dimensions"
   ]
  },
  {
   "cell_type": "code",
   "execution_count": 5,
   "metadata": {},
   "outputs": [
    {
     "name": "stdout",
     "output_type": "stream",
     "text": [
      "policy_df.shape:\t(68638, 39)\n"
     ]
    }
   ],
   "source": [
    "print(\"policy_df.shape:\\t{}\".format(policy_df.shape))"
   ]
  },
  {
   "cell_type": "code",
   "execution_count": 6,
   "metadata": {},
   "outputs": [
    {
     "name": "stdout",
     "output_type": "stream",
     "text": [
      "invoice_df.shape:\t(358850, 6)\n"
     ]
    }
   ],
   "source": [
    "print(\"invoice_df.shape:\\t{}\".format(invoice_df.shape))"
   ]
  },
  {
   "cell_type": "markdown",
   "metadata": {},
   "source": [
    "### Column types"
   ]
  },
  {
   "cell_type": "code",
   "execution_count": 7,
   "metadata": {},
   "outputs": [
    {
     "data": {
      "text/plain": [
       "policy_guid                             object\n",
       "Country                                 object\n",
       "VehicleType                             object\n",
       "VehicleUsage                            object\n",
       "Power                                    int64\n",
       "Weight                                   int64\n",
       "VehicleFirstRegistrationYear             int64\n",
       "Mark                                    object\n",
       "Model                                   object\n",
       "Deductible_general                     float64\n",
       "Fire                                     int64\n",
       "Theft                                    int64\n",
       "Natural_disasters                        int64\n",
       "Road_assistance                          int64\n",
       "Total_loss                               int64\n",
       "Vandalism                                int64\n",
       "Glass                                    int64\n",
       "Accident                                 int64\n",
       "Replacement_car                          int64\n",
       "Gender                                  object\n",
       "ClientBirthday                  datetime64[ns]\n",
       "Region                                  object\n",
       "BMClassMOD                              object\n",
       "Leasing                                  int64\n",
       "PolicyIssueDate                 datetime64[ns]\n",
       "PolicyStartDate                 datetime64[ns]\n",
       "PolicyEndDate                   datetime64[ns]\n",
       "PolicyActualEndDate             datetime64[ns]\n",
       "Nb_of_payments                           int64\n",
       "Premium                                float64\n",
       "Channel                                 object\n",
       "FuelType                                object\n",
       "avgFuelConsumption                     float64\n",
       "DriveTrain                              object\n",
       "RenewalIndicator                         int64\n",
       "IsRenewed                                int64\n",
       "BalticRating                             int64\n",
       "Terminated                               int64\n",
       "sales_type                              object\n",
       "dtype: object"
      ]
     },
     "execution_count": 7,
     "metadata": {},
     "output_type": "execute_result"
    }
   ],
   "source": [
    "policy_df.dtypes"
   ]
  },
  {
   "cell_type": "code",
   "execution_count": 8,
   "metadata": {},
   "outputs": [
    {
     "data": {
      "text/plain": [
       "invoice_guid              object\n",
       "payment_status            object\n",
       "policy_guid               object\n",
       "amount_premium           float64\n",
       "due_date          datetime64[ns]\n",
       "paid_date         datetime64[ns]\n",
       "dtype: object"
      ]
     },
     "execution_count": 8,
     "metadata": {},
     "output_type": "execute_result"
    }
   ],
   "source": [
    "invoice_df.dtypes"
   ]
  },
  {
   "cell_type": "markdown",
   "metadata": {},
   "source": [
    "### Categorical values"
   ]
  },
  {
   "cell_type": "code",
   "execution_count": 9,
   "metadata": {},
   "outputs": [],
   "source": [
    "def create_stats_df(df):\n",
    "    values_df = df.select_dtypes(include=\"object\").nunique().to_frame(name=\"unique\")\n",
    "    values_df[\"values\"] = values_df.apply(lambda item: df[item.name].unique().tolist(), axis=1)\n",
    "    return values_df"
   ]
  },
  {
   "cell_type": "code",
   "execution_count": 10,
   "metadata": {},
   "outputs": [
    {
     "data": {
      "text/html": [
       "<div>\n",
       "<style scoped>\n",
       "    .dataframe tbody tr th:only-of-type {\n",
       "        vertical-align: middle;\n",
       "    }\n",
       "\n",
       "    .dataframe tbody tr th {\n",
       "        vertical-align: top;\n",
       "    }\n",
       "\n",
       "    .dataframe thead th {\n",
       "        text-align: right;\n",
       "    }\n",
       "</style>\n",
       "<table border=\"1\" class=\"dataframe\">\n",
       "  <thead>\n",
       "    <tr style=\"text-align: right;\">\n",
       "      <th></th>\n",
       "      <th>unique</th>\n",
       "      <th>values</th>\n",
       "    </tr>\n",
       "  </thead>\n",
       "  <tbody>\n",
       "    <tr>\n",
       "      <th>policy_guid</th>\n",
       "      <td>68638</td>\n",
       "      <td>[{E4FD3CD8-4141-4E55-A74C-C983ED7EFD8E}, {CD63AD22-81C2-4A86-8E56-AF1084BE49E3}, {480DDB89-BA11-4219-A92C-330ABC6BE1...</td>\n",
       "    </tr>\n",
       "    <tr>\n",
       "      <th>Country</th>\n",
       "      <td>1</td>\n",
       "      <td>[EE]</td>\n",
       "    </tr>\n",
       "    <tr>\n",
       "      <th>VehicleType</th>\n",
       "      <td>7</td>\n",
       "      <td>[Passenger car, Van, Bus, Lorry, Truck, Motorcycle, Tractor]</td>\n",
       "    </tr>\n",
       "    <tr>\n",
       "      <th>VehicleUsage</th>\n",
       "      <td>10</td>\n",
       "      <td>[Regular, Taxi, Remote Line, Other, Short-term rental, Operative Transport, Dangerous Cargo, ATV, Agricultural Machi...</td>\n",
       "    </tr>\n",
       "    <tr>\n",
       "      <th>Mark</th>\n",
       "      <td>69</td>\n",
       "      <td>[TOYOTA, VOLVO, VOLKSWAGEN, SKODA, OPEL, FORD, HONDA, NISSAN, MAZDA, SUBARU, MERCEDES BENZ, LEXUS, AUDI, PEUGEOT, KI...</td>\n",
       "    </tr>\n",
       "    <tr>\n",
       "      <th>Model</th>\n",
       "      <td>657</td>\n",
       "      <td>[AVENSIS, S60, CC, SHARAN, OCTAVIA, ASTRA, XC90, S-MAX, CR V, FABIA, QASHQAI, FOCUS, PASSAT, 6, LAND CRUISER, LEGACY...</td>\n",
       "    </tr>\n",
       "    <tr>\n",
       "      <th>Gender</th>\n",
       "      <td>3</td>\n",
       "      <td>[M, F, L]</td>\n",
       "    </tr>\n",
       "    <tr>\n",
       "      <th>Region</th>\n",
       "      <td>16</td>\n",
       "      <td>[HARJUMAA, PÄRNUMAA, TARTUMAA, JÕGEVAMAA, IDA-VIRUMAA, LÄÄNE-VIRUMAA, JÄRVAMAA, VÕRUMAA, RAPLAMAA, VALGAMAA, HIIUMAA...</td>\n",
       "    </tr>\n",
       "    <tr>\n",
       "      <th>BMClassMOD</th>\n",
       "      <td>21</td>\n",
       "      <td>[0, A1, A2, P1, P6, P2, P10, P3, P4, A4, A3, A9, A10, nan, A5, A7, P7, A6, P5, A8, P8, P9]</td>\n",
       "    </tr>\n",
       "    <tr>\n",
       "      <th>Channel</th>\n",
       "      <td>6</td>\n",
       "      <td>[Lean Operator, Direct, Partner, Internet, Unknown, Broker]</td>\n",
       "    </tr>\n",
       "    <tr>\n",
       "      <th>FuelType</th>\n",
       "      <td>7</td>\n",
       "      <td>[Gasoline, Diesel, Missing, Gasoline-Hybrid, Electricity, CNG, Diesel-Hybrid]</td>\n",
       "    </tr>\n",
       "    <tr>\n",
       "      <th>DriveTrain</th>\n",
       "      <td>4</td>\n",
       "      <td>[Front, Missing, 4Drive, Rear]</td>\n",
       "    </tr>\n",
       "    <tr>\n",
       "      <th>sales_type</th>\n",
       "      <td>3</td>\n",
       "      <td>[Renewal, New sale, Upsale]</td>\n",
       "    </tr>\n",
       "  </tbody>\n",
       "</table>\n",
       "</div>"
      ],
      "text/plain": [
       "              unique                                                                                                                   values\n",
       "policy_guid    68638  [{E4FD3CD8-4141-4E55-A74C-C983ED7EFD8E}, {CD63AD22-81C2-4A86-8E56-AF1084BE49E3}, {480DDB89-BA11-4219-A92C-330ABC6BE1...\n",
       "Country            1                                                                                                                     [EE]\n",
       "VehicleType        7                                                             [Passenger car, Van, Bus, Lorry, Truck, Motorcycle, Tractor]\n",
       "VehicleUsage      10  [Regular, Taxi, Remote Line, Other, Short-term rental, Operative Transport, Dangerous Cargo, ATV, Agricultural Machi...\n",
       "Mark              69  [TOYOTA, VOLVO, VOLKSWAGEN, SKODA, OPEL, FORD, HONDA, NISSAN, MAZDA, SUBARU, MERCEDES BENZ, LEXUS, AUDI, PEUGEOT, KI...\n",
       "Model            657  [AVENSIS, S60, CC, SHARAN, OCTAVIA, ASTRA, XC90, S-MAX, CR V, FABIA, QASHQAI, FOCUS, PASSAT, 6, LAND CRUISER, LEGACY...\n",
       "Gender             3                                                                                                                [M, F, L]\n",
       "Region            16  [HARJUMAA, PÄRNUMAA, TARTUMAA, JÕGEVAMAA, IDA-VIRUMAA, LÄÄNE-VIRUMAA, JÄRVAMAA, VÕRUMAA, RAPLAMAA, VALGAMAA, HIIUMAA...\n",
       "BMClassMOD        21                               [0, A1, A2, P1, P6, P2, P10, P3, P4, A4, A3, A9, A10, nan, A5, A7, P7, A6, P5, A8, P8, P9]\n",
       "Channel            6                                                              [Lean Operator, Direct, Partner, Internet, Unknown, Broker]\n",
       "FuelType           7                                            [Gasoline, Diesel, Missing, Gasoline-Hybrid, Electricity, CNG, Diesel-Hybrid]\n",
       "DriveTrain         4                                                                                           [Front, Missing, 4Drive, Rear]\n",
       "sales_type         3                                                                                              [Renewal, New sale, Upsale]"
      ]
     },
     "execution_count": 10,
     "metadata": {},
     "output_type": "execute_result"
    }
   ],
   "source": [
    "create_stats_df(policy_df)"
   ]
  },
  {
   "cell_type": "code",
   "execution_count": 11,
   "metadata": {},
   "outputs": [],
   "source": [
    "policy_df.drop(columns=[\"Country\"], inplace=True)"
   ]
  },
  {
   "cell_type": "code",
   "execution_count": 12,
   "metadata": {},
   "outputs": [
    {
     "data": {
      "text/html": [
       "<div>\n",
       "<style scoped>\n",
       "    .dataframe tbody tr th:only-of-type {\n",
       "        vertical-align: middle;\n",
       "    }\n",
       "\n",
       "    .dataframe tbody tr th {\n",
       "        vertical-align: top;\n",
       "    }\n",
       "\n",
       "    .dataframe thead th {\n",
       "        text-align: right;\n",
       "    }\n",
       "</style>\n",
       "<table border=\"1\" class=\"dataframe\">\n",
       "  <thead>\n",
       "    <tr style=\"text-align: right;\">\n",
       "      <th></th>\n",
       "      <th>unique</th>\n",
       "      <th>values</th>\n",
       "    </tr>\n",
       "  </thead>\n",
       "  <tbody>\n",
       "    <tr>\n",
       "      <th>invoice_guid</th>\n",
       "      <td>358850</td>\n",
       "      <td>[{55B3ABD8-B64E-498E-A617-3C6E88C4D06F}, {40544861-68D0-462F-AF9C-8740B2316620}, {B3C6B66F-280E-413B-8FEE-A804903D2F...</td>\n",
       "    </tr>\n",
       "    <tr>\n",
       "      <th>payment_status</th>\n",
       "      <td>2</td>\n",
       "      <td>[Paid, Canceled and paid]</td>\n",
       "    </tr>\n",
       "    <tr>\n",
       "      <th>policy_guid</th>\n",
       "      <td>68638</td>\n",
       "      <td>[{480DDB89-BA11-4219-A92C-330ABC6BE1EC}, {74A1885E-CC4D-435B-B7CF-CAD0287FA814}, {56A693C1-4AE0-41F1-8EE3-C650B595DA...</td>\n",
       "    </tr>\n",
       "  </tbody>\n",
       "</table>\n",
       "</div>"
      ],
      "text/plain": [
       "                unique                                                                                                                   values\n",
       "invoice_guid    358850  [{55B3ABD8-B64E-498E-A617-3C6E88C4D06F}, {40544861-68D0-462F-AF9C-8740B2316620}, {B3C6B66F-280E-413B-8FEE-A804903D2F...\n",
       "payment_status       2                                                                                                [Paid, Canceled and paid]\n",
       "policy_guid      68638  [{480DDB89-BA11-4219-A92C-330ABC6BE1EC}, {74A1885E-CC4D-435B-B7CF-CAD0287FA814}, {56A693C1-4AE0-41F1-8EE3-C650B595DA..."
      ]
     },
     "execution_count": 12,
     "metadata": {},
     "output_type": "execute_result"
    }
   ],
   "source": [
    "create_stats_df(invoice_df)"
   ]
  },
  {
   "cell_type": "code",
   "execution_count": 13,
   "metadata": {},
   "outputs": [
    {
     "data": {
      "text/html": [
       "<div>\n",
       "<style scoped>\n",
       "    .dataframe tbody tr th:only-of-type {\n",
       "        vertical-align: middle;\n",
       "    }\n",
       "\n",
       "    .dataframe tbody tr th {\n",
       "        vertical-align: top;\n",
       "    }\n",
       "\n",
       "    .dataframe thead th {\n",
       "        text-align: right;\n",
       "    }\n",
       "</style>\n",
       "<table border=\"1\" class=\"dataframe\">\n",
       "  <thead>\n",
       "    <tr style=\"text-align: right;\">\n",
       "      <th></th>\n",
       "      <th>policy_guid</th>\n",
       "      <th>VehicleType</th>\n",
       "      <th>VehicleUsage</th>\n",
       "      <th>Power</th>\n",
       "      <th>Weight</th>\n",
       "      <th>VehicleFirstRegistrationYear</th>\n",
       "      <th>Mark</th>\n",
       "      <th>Model</th>\n",
       "      <th>Deductible_general</th>\n",
       "      <th>Fire</th>\n",
       "      <th>...</th>\n",
       "      <th>Premium</th>\n",
       "      <th>Channel</th>\n",
       "      <th>FuelType</th>\n",
       "      <th>avgFuelConsumption</th>\n",
       "      <th>DriveTrain</th>\n",
       "      <th>RenewalIndicator</th>\n",
       "      <th>IsRenewed</th>\n",
       "      <th>BalticRating</th>\n",
       "      <th>Terminated</th>\n",
       "      <th>sales_type</th>\n",
       "    </tr>\n",
       "  </thead>\n",
       "  <tbody>\n",
       "    <tr>\n",
       "      <th>0</th>\n",
       "      <td>{E4FD3CD8-4141-4E55-A74C-C983ED7EFD8E}</td>\n",
       "      <td>Passenger car</td>\n",
       "      <td>Regular</td>\n",
       "      <td>108</td>\n",
       "      <td>1895</td>\n",
       "      <td>2007</td>\n",
       "      <td>TOYOTA</td>\n",
       "      <td>AVENSIS</td>\n",
       "      <td>191.0</td>\n",
       "      <td>1</td>\n",
       "      <td>...</td>\n",
       "      <td>261.09</td>\n",
       "      <td>Lean Operator</td>\n",
       "      <td>Gasoline</td>\n",
       "      <td>8.0</td>\n",
       "      <td>Front</td>\n",
       "      <td>0</td>\n",
       "      <td>0</td>\n",
       "      <td>3</td>\n",
       "      <td>1</td>\n",
       "      <td>Renewal</td>\n",
       "    </tr>\n",
       "    <tr>\n",
       "      <th>1</th>\n",
       "      <td>{CD63AD22-81C2-4A86-8E56-AF1084BE49E3}</td>\n",
       "      <td>Passenger car</td>\n",
       "      <td>Regular</td>\n",
       "      <td>120</td>\n",
       "      <td>2050</td>\n",
       "      <td>2008</td>\n",
       "      <td>VOLVO</td>\n",
       "      <td>S60</td>\n",
       "      <td>191.0</td>\n",
       "      <td>1</td>\n",
       "      <td>...</td>\n",
       "      <td>297.22</td>\n",
       "      <td>Lean Operator</td>\n",
       "      <td>Diesel</td>\n",
       "      <td>7.0</td>\n",
       "      <td>Front</td>\n",
       "      <td>0</td>\n",
       "      <td>1</td>\n",
       "      <td>0</td>\n",
       "      <td>1</td>\n",
       "      <td>Renewal</td>\n",
       "    </tr>\n",
       "    <tr>\n",
       "      <th>2</th>\n",
       "      <td>{480DDB89-BA11-4219-A92C-330ABC6BE1EC}</td>\n",
       "      <td>Passenger car</td>\n",
       "      <td>Regular</td>\n",
       "      <td>125</td>\n",
       "      <td>1970</td>\n",
       "      <td>2012</td>\n",
       "      <td>VOLKSWAGEN</td>\n",
       "      <td>CC</td>\n",
       "      <td>191.0</td>\n",
       "      <td>1</td>\n",
       "      <td>...</td>\n",
       "      <td>534.22</td>\n",
       "      <td>Direct</td>\n",
       "      <td>Diesel</td>\n",
       "      <td>5.0</td>\n",
       "      <td>Front</td>\n",
       "      <td>0</td>\n",
       "      <td>0</td>\n",
       "      <td>0</td>\n",
       "      <td>0</td>\n",
       "      <td>New sale</td>\n",
       "    </tr>\n",
       "    <tr>\n",
       "      <th>3</th>\n",
       "      <td>{74A1885E-CC4D-435B-B7CF-CAD0287FA814}</td>\n",
       "      <td>Passenger car</td>\n",
       "      <td>Regular</td>\n",
       "      <td>85</td>\n",
       "      <td>2510</td>\n",
       "      <td>2007</td>\n",
       "      <td>VOLKSWAGEN</td>\n",
       "      <td>SHARAN</td>\n",
       "      <td>191.0</td>\n",
       "      <td>1</td>\n",
       "      <td>...</td>\n",
       "      <td>275.24</td>\n",
       "      <td>Direct</td>\n",
       "      <td>Missing</td>\n",
       "      <td>NaN</td>\n",
       "      <td>Missing</td>\n",
       "      <td>0</td>\n",
       "      <td>1</td>\n",
       "      <td>5</td>\n",
       "      <td>1</td>\n",
       "      <td>New sale</td>\n",
       "    </tr>\n",
       "    <tr>\n",
       "      <th>4</th>\n",
       "      <td>{FF6D78C8-B660-4D58-8A9D-0FD6E32E2A03}</td>\n",
       "      <td>Passenger car</td>\n",
       "      <td>Regular</td>\n",
       "      <td>77</td>\n",
       "      <td>1780</td>\n",
       "      <td>2013</td>\n",
       "      <td>SKODA</td>\n",
       "      <td>OCTAVIA</td>\n",
       "      <td>191.0</td>\n",
       "      <td>1</td>\n",
       "      <td>...</td>\n",
       "      <td>239.77</td>\n",
       "      <td>Direct</td>\n",
       "      <td>Gasoline</td>\n",
       "      <td>NaN</td>\n",
       "      <td>Missing</td>\n",
       "      <td>0</td>\n",
       "      <td>0</td>\n",
       "      <td>2</td>\n",
       "      <td>1</td>\n",
       "      <td>New sale</td>\n",
       "    </tr>\n",
       "  </tbody>\n",
       "</table>\n",
       "<p>5 rows × 38 columns</p>\n",
       "</div>"
      ],
      "text/plain": [
       "                              policy_guid    VehicleType VehicleUsage  Power  Weight  VehicleFirstRegistrationYear        Mark    Model  Deductible_general  Fire    ...      Premium        Channel  FuelType  avgFuelConsumption  DriveTrain  \\\n",
       "0  {E4FD3CD8-4141-4E55-A74C-C983ED7EFD8E}  Passenger car      Regular    108    1895                          2007      TOYOTA  AVENSIS               191.0     1    ...       261.09  Lean Operator  Gasoline                 8.0       Front   \n",
       "1  {CD63AD22-81C2-4A86-8E56-AF1084BE49E3}  Passenger car      Regular    120    2050                          2008       VOLVO      S60               191.0     1    ...       297.22  Lean Operator    Diesel                 7.0       Front   \n",
       "2  {480DDB89-BA11-4219-A92C-330ABC6BE1EC}  Passenger car      Regular    125    1970                          2012  VOLKSWAGEN       CC               191.0     1    ...       534.22         Direct    Diesel                 5.0       Front   \n",
       "3  {74A1885E-CC4D-435B-B7CF-CAD0287FA814}  Passenger car      Regular     85    2510                          2007  VOLKSWAGEN   SHARAN               191.0     1    ...       275.24         Direct   Missing                 NaN     Missing   \n",
       "4  {FF6D78C8-B660-4D58-8A9D-0FD6E32E2A03}  Passenger car      Regular     77    1780                          2013       SKODA  OCTAVIA               191.0     1    ...       239.77         Direct  Gasoline                 NaN     Missing   \n",
       "\n",
       "   RenewalIndicator  IsRenewed  BalticRating Terminated sales_type  \n",
       "0                 0          0             3          1    Renewal  \n",
       "1                 0          1             0          1    Renewal  \n",
       "2                 0          0             0          0   New sale  \n",
       "3                 0          1             5          1   New sale  \n",
       "4                 0          0             2          1   New sale  \n",
       "\n",
       "[5 rows x 38 columns]"
      ]
     },
     "execution_count": 13,
     "metadata": {},
     "output_type": "execute_result"
    }
   ],
   "source": [
    "policy_df.head()"
   ]
  },
  {
   "cell_type": "code",
   "execution_count": 14,
   "metadata": {},
   "outputs": [
    {
     "data": {
      "text/html": [
       "<div>\n",
       "<style scoped>\n",
       "    .dataframe tbody tr th:only-of-type {\n",
       "        vertical-align: middle;\n",
       "    }\n",
       "\n",
       "    .dataframe tbody tr th {\n",
       "        vertical-align: top;\n",
       "    }\n",
       "\n",
       "    .dataframe thead th {\n",
       "        text-align: right;\n",
       "    }\n",
       "</style>\n",
       "<table border=\"1\" class=\"dataframe\">\n",
       "  <thead>\n",
       "    <tr style=\"text-align: right;\">\n",
       "      <th></th>\n",
       "      <th>invoice_guid</th>\n",
       "      <th>payment_status</th>\n",
       "      <th>policy_guid</th>\n",
       "      <th>amount_premium</th>\n",
       "      <th>due_date</th>\n",
       "      <th>paid_date</th>\n",
       "    </tr>\n",
       "  </thead>\n",
       "  <tbody>\n",
       "    <tr>\n",
       "      <th>0</th>\n",
       "      <td>{55B3ABD8-B64E-498E-A617-3C6E88C4D06F}</td>\n",
       "      <td>Paid</td>\n",
       "      <td>{480DDB89-BA11-4219-A92C-330ABC6BE1EC}</td>\n",
       "      <td>133.55</td>\n",
       "      <td>2015-12-13</td>\n",
       "      <td>2015-12-14</td>\n",
       "    </tr>\n",
       "    <tr>\n",
       "      <th>1</th>\n",
       "      <td>{40544861-68D0-462F-AF9C-8740B2316620}</td>\n",
       "      <td>Paid</td>\n",
       "      <td>{480DDB89-BA11-4219-A92C-330ABC6BE1EC}</td>\n",
       "      <td>133.55</td>\n",
       "      <td>2016-03-13</td>\n",
       "      <td>2016-03-14</td>\n",
       "    </tr>\n",
       "    <tr>\n",
       "      <th>2</th>\n",
       "      <td>{B3C6B66F-280E-413B-8FEE-A804903D2FE8}</td>\n",
       "      <td>Paid</td>\n",
       "      <td>{480DDB89-BA11-4219-A92C-330ABC6BE1EC}</td>\n",
       "      <td>133.57</td>\n",
       "      <td>2015-09-14</td>\n",
       "      <td>2015-09-14</td>\n",
       "    </tr>\n",
       "    <tr>\n",
       "      <th>3</th>\n",
       "      <td>{674FDC26-D0E8-4C20-BB86-1AE9979EB1AA}</td>\n",
       "      <td>Paid</td>\n",
       "      <td>{480DDB89-BA11-4219-A92C-330ABC6BE1EC}</td>\n",
       "      <td>133.55</td>\n",
       "      <td>2016-06-13</td>\n",
       "      <td>2016-06-13</td>\n",
       "    </tr>\n",
       "    <tr>\n",
       "      <th>4</th>\n",
       "      <td>{EE21ECF7-7B70-4DA3-B663-87371073DE18}</td>\n",
       "      <td>Paid</td>\n",
       "      <td>{74A1885E-CC4D-435B-B7CF-CAD0287FA814}</td>\n",
       "      <td>23.01</td>\n",
       "      <td>2015-09-19</td>\n",
       "      <td>2015-09-21</td>\n",
       "    </tr>\n",
       "  </tbody>\n",
       "</table>\n",
       "</div>"
      ],
      "text/plain": [
       "                             invoice_guid payment_status                             policy_guid  amount_premium   due_date  paid_date\n",
       "0  {55B3ABD8-B64E-498E-A617-3C6E88C4D06F}           Paid  {480DDB89-BA11-4219-A92C-330ABC6BE1EC}          133.55 2015-12-13 2015-12-14\n",
       "1  {40544861-68D0-462F-AF9C-8740B2316620}           Paid  {480DDB89-BA11-4219-A92C-330ABC6BE1EC}          133.55 2016-03-13 2016-03-14\n",
       "2  {B3C6B66F-280E-413B-8FEE-A804903D2FE8}           Paid  {480DDB89-BA11-4219-A92C-330ABC6BE1EC}          133.57 2015-09-14 2015-09-14\n",
       "3  {674FDC26-D0E8-4C20-BB86-1AE9979EB1AA}           Paid  {480DDB89-BA11-4219-A92C-330ABC6BE1EC}          133.55 2016-06-13 2016-06-13\n",
       "4  {EE21ECF7-7B70-4DA3-B663-87371073DE18}           Paid  {74A1885E-CC4D-435B-B7CF-CAD0287FA814}           23.01 2015-09-19 2015-09-21"
      ]
     },
     "execution_count": 14,
     "metadata": {},
     "output_type": "execute_result"
    }
   ],
   "source": [
    "invoice_df.head()"
   ]
  },
  {
   "cell_type": "markdown",
   "metadata": {
    "collapsed": true
   },
   "source": [
    "### Preprocessing"
   ]
  },
  {
   "cell_type": "code",
   "execution_count": null,
   "metadata": {},
   "outputs": [],
   "source": []
  }
 ],
 "metadata": {
  "kernelspec": {
   "display_name": "Python 3",
   "language": "python",
   "name": "python3"
  },
  "language_info": {
   "codemirror_mode": {
    "name": "ipython",
    "version": 3
   },
   "file_extension": ".py",
   "mimetype": "text/x-python",
   "name": "python",
   "nbconvert_exporter": "python",
   "pygments_lexer": "ipython3",
   "version": "3.6.0"
  }
 },
 "nbformat": 4,
 "nbformat_minor": 2
}
